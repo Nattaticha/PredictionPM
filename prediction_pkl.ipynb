{
 "cells": [
  {
   "cell_type": "code",
   "execution_count": 2,
   "metadata": {},
   "outputs": [],
   "source": [
    "from pycaret.regression import *\n",
    "import pandas as pd\n",
    "data = pd.read_csv('new_cleaned_data.csv')"
   ]
  },
  {
   "cell_type": "code",
   "execution_count": 3,
   "metadata": {},
   "outputs": [
    {
     "name": "stdout",
     "output_type": "stream",
     "text": [
      "Transformation Pipeline and Model Successfully Loaded\n"
     ]
    }
   ],
   "source": [
    "model = load_model('O3_rf_model_iris')"
   ]
  },
  {
   "cell_type": "code",
   "execution_count": 4,
   "metadata": {},
   "outputs": [],
   "source": [
    "data['DATETIMEDATA'] = pd.to_datetime(data['DATETIMEDATA'])\n",
    "\n",
    "now = pd.Timestamp.now()\n",
    "start_date = now.date()\n",
    "end_date = start_date + pd.DateOffset(days=7)\n",
    "next_week = pd.date_range(start=start_date, end=end_date, freq='D')\n",
    "next_week_data_O3 = pd.DataFrame({'DATETIMEDATA': next_week})\n",
    "\n",
    "next_week_data_O3['PM25'] = 0\n",
    "next_week_data_O3['WS'] = 0\n",
    "next_week_data_O3['TEMP'] = 0\n",
    "next_week_data_O3['RH'] = 0\n",
    "next_week_data_O3['WD'] = 0\n",
    "\n",
    "predictions_o3 = predict_model(model, data=next_week_data_O3)\n",
    "predictions_o3 = predictions_o3.rename(columns={'Label': 'O3'})\n",
    "predictions_o3.rename(columns={'prediction_label': 'O3'}, inplace=True)\n",
    "predictions_o3.to_csv('predictions_o3.csv')"
   ]
  },
  {
   "cell_type": "code",
   "execution_count": 5,
   "metadata": {},
   "outputs": [
    {
     "name": "stdout",
     "output_type": "stream",
     "text": [
      "Transformation Pipeline and Model Successfully Loaded\n"
     ]
    }
   ],
   "source": [
    "model_1 = load_model('PM_et_model_iris')"
   ]
  },
  {
   "cell_type": "code",
   "execution_count": 6,
   "metadata": {},
   "outputs": [],
   "source": [
    "next_week_data_PM = pd.DataFrame({'DATETIMEDATA': next_week})\n",
    "\n",
    "next_week_data_PM['O3'] = 0\n",
    "next_week_data_PM['WS'] = 0\n",
    "next_week_data_PM['TEMP'] = 0\n",
    "next_week_data_PM['RH'] = 0\n",
    "next_week_data_PM['WD'] = 0\n",
    "\n",
    "predictions_pm = predict_model(model_1, data=next_week_data_PM)\n",
    "predictions_pm = predictions_pm.rename(columns={'Label': 'PM25'})\n",
    "predictions_pm.rename(columns={'prediction_label': 'PM25'}, inplace=True)\n",
    "predictions_pm.to_csv('predictions_pm.csv')"
   ]
  },
  {
   "cell_type": "code",
   "execution_count": 15,
   "metadata": {},
   "outputs": [],
   "source": [
    "prediction = pd.merge(predictions_o3, predictions_pm, on='DATETIMEDATA', how='outer')\n",
    "prediction = prediction.drop(columns=['PM25_x','WS_x','TEMP_x','RH_x','WD_x','O3_y','WS_y','TEMP_y','RH_y','WD_y'])\n",
    "prediction.rename(columns={'O3_x': 'O3'}, inplace=True)\n",
    "prediction.rename(columns={'PM25_y': 'PM25'}, inplace=True)\n",
    "prediction[['O3', 'PM25']] = prediction[['O3', 'PM25']].round(3)"
   ]
  },
  {
   "cell_type": "code",
   "execution_count": 16,
   "metadata": {},
   "outputs": [],
   "source": [
    "prediction.to_csv('prediction.csv', index=False)"
   ]
  }
 ],
 "metadata": {
  "kernelspec": {
   "display_name": "Python 3",
   "language": "python",
   "name": "python3"
  },
  "language_info": {
   "codemirror_mode": {
    "name": "ipython",
    "version": 3
   },
   "file_extension": ".py",
   "mimetype": "text/x-python",
   "name": "python",
   "nbconvert_exporter": "python",
   "pygments_lexer": "ipython3",
   "version": "3.11.8"
  }
 },
 "nbformat": 4,
 "nbformat_minor": 2
}
