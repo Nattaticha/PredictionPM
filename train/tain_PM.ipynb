{
 "cells": [
  {
   "cell_type": "code",
   "execution_count": 2,
   "metadata": {},
   "outputs": [
    {
     "name": "stdout",
     "output_type": "stream",
     "text": [
      "             DATETIMEDATA  PM25    O3  WS  TEMP  RH   WD stationID\n",
      "0     2024-01-01 00:00:00  16.5  16.0   1    27  79  115       44t\n",
      "1     2024-01-01 01:00:00  33.6   0.0   1    27  82   97       44t\n",
      "2     2024-01-01 02:00:00  34.2   0.0   1    26  84   96       44t\n",
      "3     2024-01-01 03:00:00  20.1   0.0   1    26  82  108       44t\n",
      "4     2024-01-01 04:00:00  16.5   1.0   1    27  79  106       44t\n",
      "...                   ...   ...   ...  ..   ...  ..  ...       ...\n",
      "1387  2024-02-27 19:00:00  21.7   9.0   1    29  67  162       44t\n",
      "1388  2024-02-27 20:00:00  17.5   1.0   1    29  68  134       44t\n",
      "1389  2024-02-27 21:00:00  21.1   0.0   1    29  69  140       44t\n",
      "1390  2024-02-27 22:00:00  23.2   0.0   1    29  70  111       44t\n",
      "1391  2024-02-27 23:00:00  16.2   8.0   1    28  71  120       44t\n",
      "\n",
      "[1392 rows x 8 columns]\n"
     ]
    }
   ],
   "source": [
    "import pandas as pd\n",
    "pm_data = pd.read_csv(\"C:\\\\Users\\\\ASUS\\\\Desktop\\\\241-152\\\\finalproject\\\\data\\\\new_cleaned_data.csv\")\n",
    "print(pm_data)\n"
   ]
  },
  {
   "cell_type": "code",
   "execution_count": 3,
   "metadata": {},
   "outputs": [
    {
     "name": "stdout",
     "output_type": "stream",
     "text": [
      "test\n"
     ]
    }
   ],
   "source": [
    "print(\"test\")"
   ]
  }
 ],
 "metadata": {
  "kernelspec": {
   "display_name": "Python 3",
   "language": "python",
   "name": "python3"
  },
  "language_info": {
   "codemirror_mode": {
    "name": "ipython",
    "version": 3
   },
   "file_extension": ".py",
   "mimetype": "text/x-python",
   "name": "python",
   "nbconvert_exporter": "python",
   "pygments_lexer": "ipython3",
   "version": "3.12.2"
  }
 },
 "nbformat": 4,
 "nbformat_minor": 2
}
